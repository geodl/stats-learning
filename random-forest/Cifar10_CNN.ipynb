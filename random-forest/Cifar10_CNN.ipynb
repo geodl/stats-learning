{
 "cells": [
  {
   "cell_type": "markdown",
   "metadata": {
    "id": "UGqcrR4DDtnB",
    "colab_type": "text"
   },
   "source": [
    "**Final project for Statistical Learning 760.**  \\\\\n",
    "\n",
    "---\n",
    "\n",
    "Train a Conv. Net. on CIFAR 10 Data and compare results with a random forest."
   ]
  },
  {
   "cell_type": "code",
   "execution_count": null,
   "metadata": {
    "id": "TKLvmdvHC6y8",
    "colab_type": "code",
    "colab": {
     "autoexec": {
      "startup": false,
      "wait_interval": 0.0
     },
     "base_uri": "https://localhost:8080/",
     "height": 51.0
    },
    "outputId": "d06e0dfc-dd13-4d3a-f8a0-b621721e7688",
    "executionInfo": {
     "status": "ok",
     "timestamp": 1.526063626313E12,
     "user_tz": 420.0,
     "elapsed": 8119.0,
     "user": {
      "displayName": "Harpreet Singh",
      "photoUrl": "https://lh3.googleusercontent.com/a/default-user=s128",
      "userId": "106201171586352716832"
     }
    }
   },
   "outputs": [],
   "source": [
    "#Imports\n",
    "import keras\n",
    "from keras.datasets import cifar10\n",
    "from keras.models import Sequential\n",
    "from keras.layers import Dense, Dropout, Activation, Flatten, BatchNormalization\n",
    "from keras.layers import Conv2D, MaxPooling2D\n",
    "from keras.optimizers import SGD, Adam\n",
    "from keras.regularizers import l2\n",
    "from keras.utils import print_summary, to_categorical\n",
    "import matplotlib.pyplot as plt\n",
    "import sys\n",
    "import os\n",
    "\n",
    "#Test if GPU is working -> '/device:GPU:0'\n",
    "import tensorflow as tf\n",
    "tf.test.gpu_device_name()"
   ]
  },
  {
   "cell_type": "code",
   "execution_count": 2,
   "metadata": {
    "id": "wweNJhv6DO9V",
    "colab_type": "code",
    "colab": {
     "autoexec": {
      "startup": false,
      "wait_interval": 0.0
     },
     "base_uri": "https://localhost:8080/",
     "height": 153.0
    },
    "outputId": "c41b0de6-946a-48c0-d30b-c5c816d59ed6",
    "executionInfo": {
     "status": "ok",
     "timestamp": 1.526063696736E12,
     "user_tz": 420.0,
     "elapsed": 59684.0,
     "user": {
      "displayName": "Harpreet Singh",
      "photoUrl": "https://lh3.googleusercontent.com/a/default-user=s128",
      "userId": "106201171586352716832"
     }
    }
   },
   "outputs": [
    {
     "name": "stdout",
     "output_type": "stream",
     "text": [
      "Downloading data from https://www.cs.toronto.edu/~kriz/cifar-10-python.tar.gz\n",
      "123363328/170498071 [====================>.........] - ETA: 15s"
     ]
    },
    {
     "name": "stdout",
     "output_type": "stream",
     "text": [
      "170500096/170498071 [==============================] - 56s 0us/step\n",
      "x_train shape: (50000, 32, 32, 3)\n",
      "x_test shape: (10000, 32, 32, 3)\n",
      "y_train shape: (50000, 1)\n",
      "y_test shape: (10000, 1)\n",
      "New y_test shape: (10000, 10)\n",
      "y_test sample: [[0. 0. 0. 1. 0. 0. 0. 0. 0. 0.]]\n"
     ]
    }
   ],
   "source": [
    "# loading CIFAR 10 data\n",
    "(x_train, y_train), (x_test, y_test) = cifar10.load_data()\n",
    "print(f\"x_train shape: {x_train.shape}\")\n",
    "print(f\"x_test shape: {x_test.shape}\")\n",
    "print(f\"y_train shape: {y_train.shape}\")\n",
    "print(f\"y_test shape: {y_test.shape}\")\n",
    "\n",
    "# normalize images\n",
    "x_train = x_train.astype('float32')\n",
    "x_test = x_test.astype('float32')\n",
    "x_train /= 255.0\n",
    "x_test /= 255.0\n",
    "\n",
    "# make CIFAR 10 labels categorical\n",
    "num_classes = 10\n",
    "y_train = to_categorical(y_train, num_classes)\n",
    "y_test = to_categorical(y_test, num_classes)\n",
    "print(f\"New y_test shape: {y_test.shape}\")\n",
    "print(f\"y_test sample: {y_test[0:1,]}\")"
   ]
  },
  {
   "cell_type": "markdown",
   "metadata": {
    "id": "liqjCK_OFDSX",
    "colab_type": "code",
    "colab": {
     "autoexec": {
      "startup": false,
      "wait_interval": 0.0
     },
     "base_uri": "https://localhost:8080/",
     "height": 833.0
    },
    "outputId": "364b5916-4659-4558-8f31-f606ca0dcb7d",
    "executionInfo": {
     "status": "ok",
     "timestamp": 1.526066962848E12,
     "user_tz": 420.0,
     "elapsed": 971.0,
     "user": {
      "displayName": "Harpreet Singh",
      "photoUrl": "https://lh3.googleusercontent.com/a/default-user=s128",
      "userId": "106201171586352716832"
     }
    }
   },
   "source": [
    "# CNN MODEL\n",
    "\n",
    "model_name = 'cifar_10_cnn'\n",
    "\n",
    "# Model type\n",
    "model = Sequential()\n",
    "model.reset_states()\n",
    "\n",
    "#Dropout rate\n",
    "dropout_rate = 0.5\n",
    "\n",
    "#Input\n",
    "print(f\"Input Shape: {x_train.shape[1:]}\")\n",
    "\n",
    "# CNN Layer 1\n",
    "model.add(Conv2D(32, (3,3), strides=(1,1), padding='same',  use_bias=True, bias_initializer='zeros', kernel_initializer='he_normal', activation='relu', input_shape=x_train.shape[1:]))\n",
    "model.add(BatchNormalization(center=False, scale=False))\n",
    "model.add(MaxPooling2D(pool_size=(2, 2), strides=None, padding='valid'))\n",
    "model.add(Dropout(dropout_rate))\n",
    "\n",
    "# CNN Layer 4\n",
    "model.add(Conv2D(64, (3,3), strides=(1,1), padding='valid', use_bias=True, bias_initializer='zeros', kernel_initializer='he_normal', activation='relu'))\n",
    "model.add(BatchNormalization(center=False, scale=False))\n",
    "model.add(MaxPooling2D(pool_size=(2, 2), strides=None, padding='valid'))\n",
    "model.add(Dropout(dropout_rate))\n",
    "\n",
    "# CNN Layer 6\n",
    "model.add(Conv2D(128, (3,3), strides=(1,1), padding='valid', use_bias=True, bias_initializer='zeros', kernel_initializer='he_normal', activation='relu'))\n",
    "model.add(BatchNormalization(center=False, scale=False))\n",
    "model.add(MaxPooling2D(pool_size=(2, 2), strides=None, padding='valid'))\n",
    "model.add(Dropout(dropout_rate))\n",
    "\n",
    "# Flatten\n",
    "model.add(Flatten())          \n",
    "          \n",
    "# Fully Connected Later 5\n",
    "model.add(Dense(256, activation='relu', kernel_initializer='he_normal', bias_initializer='zeros' , name='fc_1')) \n",
    "model.add(BatchNormalization(center=False, scale=False))\n",
    "model.add(Dropout(dropout_rate))\n",
    "\n",
    "# Fully Connected Later 6\n",
    "model.add(Dense(128, activation='relu', kernel_initializer='he_normal', bias_initializer='zeros', name='fc_2')) \n",
    "model.add(BatchNormalization(center=False, scale=True))\n",
    "model.add(Dropout(dropout_rate))\n",
    "\n",
    "# OUTPUT LAYER\n",
    "model.add(Dense(num_classes, activation='softmax'))\n",
    "\n",
    "# Summary \n",
    "model.summary()"
   ]
  },
  {
   "cell_type": "markdown",
   "metadata": {
    "id": "EDdyqgMxE8qQ",
    "colab_type": "text"
   },
   "source": [
    "Building CNN model."
   ]
  },
  {
   "cell_type": "markdown",
   "metadata": {
    "id": "HjOmgiJyLU0c",
    "colab_type": "text"
   },
   "source": [
    "Train the model."
   ]
  },
  {
   "cell_type": "code",
   "execution_count": 9,
   "metadata": {
    "id": "moB6txZXLWjP",
    "colab_type": "code",
    "colab": {
     "autoexec": {
      "startup": false,
      "wait_interval": 0.0
     },
     "base_uri": "https://localhost:8080/",
     "height": 3434.0
    },
    "outputId": "302efb06-c14a-4f80-c985-bf09ed90f9c9",
    "executionInfo": {
     "status": "ok",
     "timestamp": 1.526068212636E12,
     "user_tz": 420.0,
     "elapsed": 1218098.0,
     "user": {
      "displayName": "Harpreet Singh",
      "photoUrl": "https://lh3.googleusercontent.com/a/default-user=s128",
      "userId": "106201171586352716832"
     }
    }
   },
   "outputs": [
    {
     "name": "stdout",
     "output_type": "stream",
     "text": [
      "Train on 45000 samples, validate on 5000 samples\n",
      "Epoch 1/100\n",
      " - 14s - loss: 2.3271 - acc: 0.2210 - val_loss: 1.9096 - val_acc: 0.2668\n",
      "Epoch 2/100\n",
      " - 13s - loss: 1.8118 - acc: 0.3270 - val_loss: 1.7946 - val_acc: 0.3246\n",
      "Epoch 3/100\n",
      " - 12s - loss: 1.6594 - acc: 0.3866 - val_loss: 1.8272 - val_acc: 0.3348\n",
      "Epoch 4/100\n",
      " - 12s - loss: 1.5648 - acc: 0.4244 - val_loss: 1.8628 - val_acc: 0.3696\n",
      "Epoch 5/100\n",
      " - 12s - loss: 1.4963 - acc: 0.4539 - val_loss: 1.5270 - val_acc: 0.4588\n",
      "Epoch 6/100\n",
      " - 12s - loss: 1.4314 - acc: 0.4801 - val_loss: 1.4744 - val_acc: 0.4766\n",
      "Epoch 7/100\n",
      " - 12s - loss: 1.3849 - acc: 0.5004 - val_loss: 1.5972 - val_acc: 0.4412\n",
      "Epoch 8/100\n",
      " - 12s - loss: 1.3418 - acc: 0.5174 - val_loss: 1.5979 - val_acc: 0.4590\n",
      "Epoch 9/100\n",
      " - 12s - loss: 1.3049 - acc: 0.5327 - val_loss: 1.4993 - val_acc: 0.4816\n",
      "Epoch 10/100\n",
      " - 12s - loss: 1.2737 - acc: 0.5454 - val_loss: 1.7568 - val_acc: 0.4344\n",
      "Epoch 11/100\n",
      " - 12s - loss: 1.2442 - acc: 0.5603 - val_loss: 1.1662 - val_acc: 0.5910\n",
      "Epoch 12/100\n",
      " - 12s - loss: 1.2178 - acc: 0.5705 - val_loss: 1.2423 - val_acc: 0.5678\n",
      "Epoch 13/100\n",
      " - 12s - loss: 1.1975 - acc: 0.5763 - val_loss: 1.3206 - val_acc: 0.5534\n",
      "Epoch 14/100\n",
      " - 12s - loss: 1.1731 - acc: 0.5858 - val_loss: 1.6807 - val_acc: 0.4630\n",
      "Epoch 15/100\n",
      " - 12s - loss: 1.1646 - acc: 0.5906 - val_loss: 1.2348 - val_acc: 0.5624\n",
      "Epoch 16/100\n",
      " - 12s - loss: 1.1531 - acc: 0.5955 - val_loss: 1.0563 - val_acc: 0.6372\n",
      "Epoch 17/100\n",
      " - 12s - loss: 1.1345 - acc: 0.6019 - val_loss: 1.4569 - val_acc: 0.5088\n",
      "Epoch 18/100\n",
      " - 12s - loss: 1.1213 - acc: 0.6068 - val_loss: 1.1899 - val_acc: 0.5962\n",
      "Epoch 19/100\n",
      " - 12s - loss: 1.1148 - acc: 0.6100 - val_loss: 1.0448 - val_acc: 0.6272\n",
      "Epoch 20/100\n",
      " - 12s - loss: 1.0968 - acc: 0.6167 - val_loss: 1.4379 - val_acc: 0.5308\n",
      "Epoch 21/100\n",
      " - 12s - loss: 1.0914 - acc: 0.6191 - val_loss: 1.0952 - val_acc: 0.6204\n",
      "Epoch 22/100\n",
      " - 12s - loss: 1.0809 - acc: 0.6242 - val_loss: 0.9559 - val_acc: 0.6620\n",
      "Epoch 23/100\n",
      " - 12s - loss: 1.0723 - acc: 0.6301 - val_loss: 1.6087 - val_acc: 0.4718\n",
      "Epoch 24/100\n",
      " - 12s - loss: 1.0603 - acc: 0.6322 - val_loss: 1.4123 - val_acc: 0.5282\n",
      "Epoch 25/100\n",
      " - 12s - loss: 1.0566 - acc: 0.6327 - val_loss: 1.3199 - val_acc: 0.5534\n",
      "Epoch 26/100\n",
      " - 12s - loss: 1.0485 - acc: 0.6371 - val_loss: 0.9250 - val_acc: 0.6724\n",
      "Epoch 27/100\n",
      " - 12s - loss: 1.0421 - acc: 0.6379 - val_loss: 0.9231 - val_acc: 0.6804\n",
      "Epoch 28/100\n",
      " - 12s - loss: 1.0385 - acc: 0.6374 - val_loss: 0.9706 - val_acc: 0.6624\n",
      "Epoch 29/100\n",
      " - 12s - loss: 1.0310 - acc: 0.6429 - val_loss: 1.1887 - val_acc: 0.5834\n",
      "Epoch 30/100\n",
      " - 12s - loss: 1.0212 - acc: 0.6454 - val_loss: 0.9398 - val_acc: 0.6714\n",
      "Epoch 31/100\n",
      " - 12s - loss: 1.0204 - acc: 0.6480 - val_loss: 0.9886 - val_acc: 0.6604\n",
      "Epoch 32/100\n",
      " - 12s - loss: 1.0146 - acc: 0.6486 - val_loss: 0.8770 - val_acc: 0.6956\n",
      "Epoch 33/100\n",
      " - 12s - loss: 1.0102 - acc: 0.6507 - val_loss: 1.0224 - val_acc: 0.6598\n",
      "Epoch 34/100\n"
     ]
    },
    {
     "name": "stdout",
     "output_type": "stream",
     "text": [
      " - 12s - loss: 1.0056 - acc: 0.6543 - val_loss: 0.8609 - val_acc: 0.7018\n",
      "Epoch 35/100\n",
      " - 12s - loss: 1.0045 - acc: 0.6546 - val_loss: 0.8315 - val_acc: 0.7174\n",
      "Epoch 36/100\n",
      " - 12s - loss: 1.0004 - acc: 0.6564 - val_loss: 0.8236 - val_acc: 0.7164\n",
      "Epoch 37/100\n",
      " - 12s - loss: 0.9892 - acc: 0.6602 - val_loss: 0.8255 - val_acc: 0.7208\n",
      "Epoch 38/100\n",
      " - 12s - loss: 0.9865 - acc: 0.6591 - val_loss: 0.8683 - val_acc: 0.7010\n",
      "Epoch 39/100\n",
      " - 12s - loss: 0.9831 - acc: 0.6582 - val_loss: 0.8659 - val_acc: 0.7072\n",
      "Epoch 40/100\n",
      " - 12s - loss: 0.9783 - acc: 0.6616 - val_loss: 0.8871 - val_acc: 0.6916\n",
      "Epoch 41/100\n",
      " - 12s - loss: 0.9769 - acc: 0.6626 - val_loss: 0.9757 - val_acc: 0.6688\n",
      "Epoch 42/100\n",
      " - 12s - loss: 0.9760 - acc: 0.6628 - val_loss: 1.0070 - val_acc: 0.6448\n",
      "Epoch 43/100\n",
      " - 12s - loss: 0.9693 - acc: 0.6671 - val_loss: 0.8836 - val_acc: 0.6870\n",
      "Epoch 44/100\n",
      " - 13s - loss: 0.9682 - acc: 0.6667 - val_loss: 0.8264 - val_acc: 0.7112\n",
      "Epoch 45/100\n",
      " - 12s - loss: 0.9678 - acc: 0.6684 - val_loss: 0.9137 - val_acc: 0.6780\n",
      "Epoch 46/100\n",
      " - 12s - loss: 0.9620 - acc: 0.6676 - val_loss: 0.8771 - val_acc: 0.6956\n",
      "Epoch 47/100\n",
      " - 12s - loss: 0.9616 - acc: 0.6682 - val_loss: 1.0324 - val_acc: 0.6364\n",
      "Epoch 48/100\n",
      " - 12s - loss: 0.9589 - acc: 0.6681 - val_loss: 0.9654 - val_acc: 0.6604\n",
      "Epoch 49/100\n",
      " - 12s - loss: 0.9552 - acc: 0.6703 - val_loss: 0.7876 - val_acc: 0.7212\n",
      "Epoch 50/100\n",
      " - 12s - loss: 0.9507 - acc: 0.6715 - val_loss: 0.9175 - val_acc: 0.6854\n",
      "Epoch 51/100\n",
      " - 12s - loss: 0.9506 - acc: 0.6717 - val_loss: 0.8737 - val_acc: 0.6958\n",
      "Epoch 52/100\n",
      " - 13s - loss: 0.9515 - acc: 0.6727 - val_loss: 0.8340 - val_acc: 0.7130\n",
      "Epoch 53/100\n",
      " - 13s - loss: 0.9455 - acc: 0.6748 - val_loss: 0.9567 - val_acc: 0.6692\n",
      "Epoch 54/100\n",
      " - 12s - loss: 0.9452 - acc: 0.6755 - val_loss: 0.8826 - val_acc: 0.7012\n",
      "Epoch 55/100\n",
      " - 12s - loss: 0.9377 - acc: 0.6764 - val_loss: 0.8519 - val_acc: 0.7010\n",
      "Epoch 56/100\n",
      " - 12s - loss: 0.9457 - acc: 0.6726 - val_loss: 0.9435 - val_acc: 0.6872\n",
      "Epoch 57/100\n",
      " - 12s - loss: 0.9403 - acc: 0.6774 - val_loss: 0.7730 - val_acc: 0.7350\n",
      "Epoch 58/100\n",
      " - 12s - loss: 0.9400 - acc: 0.6759 - val_loss: 0.7583 - val_acc: 0.7316\n",
      "Epoch 59/100\n",
      " - 12s - loss: 0.9379 - acc: 0.6778 - val_loss: 0.8226 - val_acc: 0.7182\n",
      "Epoch 60/100\n",
      " - 12s - loss: 0.9334 - acc: 0.6816 - val_loss: 0.8606 - val_acc: 0.7018\n",
      "Epoch 61/100\n",
      " - 12s - loss: 0.9293 - acc: 0.6819 - val_loss: 0.8845 - val_acc: 0.6864\n",
      "Epoch 62/100\n",
      " - 12s - loss: 0.9299 - acc: 0.6801 - val_loss: 0.7184 - val_acc: 0.7506\n",
      "Epoch 63/100\n",
      " - 12s - loss: 0.9242 - acc: 0.6845 - val_loss: 0.8374 - val_acc: 0.7084\n",
      "Epoch 64/100\n",
      " - 12s - loss: 0.9285 - acc: 0.6797 - val_loss: 0.7436 - val_acc: 0.7474\n",
      "Epoch 65/100\n",
      " - 12s - loss: 0.9284 - acc: 0.6826 - val_loss: 0.8870 - val_acc: 0.6932\n",
      "Epoch 66/100\n",
      " - 12s - loss: 0.9238 - acc: 0.6838 - val_loss: 0.8403 - val_acc: 0.7090\n",
      "Epoch 67/100\n",
      " - 12s - loss: 0.9148 - acc: 0.6852 - val_loss: 0.7096 - val_acc: 0.7538\n"
     ]
    },
    {
     "name": "stdout",
     "output_type": "stream",
     "text": [
      "Epoch 68/100\n",
      " - 12s - loss: 0.9224 - acc: 0.6854 - val_loss: 1.1060 - val_acc: 0.6336\n",
      "Epoch 69/100\n",
      " - 12s - loss: 0.9214 - acc: 0.6832 - val_loss: 0.9367 - val_acc: 0.6736\n",
      "Epoch 70/100\n",
      " - 12s - loss: 0.9137 - acc: 0.6866 - val_loss: 0.7872 - val_acc: 0.7250\n",
      "Epoch 71/100\n",
      " - 12s - loss: 0.9228 - acc: 0.6831 - val_loss: 0.8234 - val_acc: 0.7174\n",
      "Epoch 72/100\n",
      " - 12s - loss: 0.9085 - acc: 0.6868 - val_loss: 0.8947 - val_acc: 0.6910\n",
      "Epoch 73/100\n",
      " - 12s - loss: 0.9131 - acc: 0.6855 - val_loss: 0.8090 - val_acc: 0.7222\n",
      "Epoch 74/100\n",
      " - 12s - loss: 0.9132 - acc: 0.6881 - val_loss: 0.7990 - val_acc: 0.7210\n",
      "Epoch 75/100\n",
      " - 12s - loss: 0.9137 - acc: 0.6851 - val_loss: 0.7359 - val_acc: 0.7460\n",
      "Epoch 76/100\n",
      " - 12s - loss: 0.9088 - acc: 0.6873 - val_loss: 0.7759 - val_acc: 0.7310\n",
      "Epoch 77/100\n",
      " - 12s - loss: 0.9076 - acc: 0.6862 - val_loss: 1.1639 - val_acc: 0.6150\n",
      "Epoch 78/100\n",
      " - 12s - loss: 0.9095 - acc: 0.6886 - val_loss: 0.8179 - val_acc: 0.7196\n",
      "Epoch 79/100\n",
      " - 12s - loss: 0.8964 - acc: 0.6925 - val_loss: 1.0460 - val_acc: 0.6508\n",
      "Epoch 80/100\n",
      " - 13s - loss: 0.9073 - acc: 0.6882 - val_loss: 0.7961 - val_acc: 0.7278\n",
      "Epoch 81/100\n",
      " - 13s - loss: 0.8997 - acc: 0.6912 - val_loss: 0.8378 - val_acc: 0.7128\n",
      "Epoch 82/100\n",
      " - 12s - loss: 0.8990 - acc: 0.6928 - val_loss: 0.9309 - val_acc: 0.6764\n",
      "Epoch 83/100\n",
      " - 12s - loss: 0.8964 - acc: 0.6918 - val_loss: 0.9619 - val_acc: 0.6750\n",
      "Epoch 84/100\n",
      " - 12s - loss: 0.9002 - acc: 0.6908 - val_loss: 0.8114 - val_acc: 0.7170\n",
      "Epoch 85/100\n",
      " - 12s - loss: 0.8993 - acc: 0.6922 - val_loss: 0.7487 - val_acc: 0.7390\n",
      "Epoch 86/100\n",
      " - 12s - loss: 0.8920 - acc: 0.6944 - val_loss: 0.7859 - val_acc: 0.7302\n",
      "Epoch 87/100\n",
      " - 12s - loss: 0.8904 - acc: 0.6955 - val_loss: 0.9066 - val_acc: 0.6832\n",
      "Epoch 88/100\n",
      " - 12s - loss: 0.8925 - acc: 0.6942 - val_loss: 0.7362 - val_acc: 0.7428\n",
      "Epoch 89/100\n",
      " - 12s - loss: 0.8930 - acc: 0.6926 - val_loss: 0.7197 - val_acc: 0.7478\n",
      "Epoch 90/100\n",
      " - 13s - loss: 0.8898 - acc: 0.6950 - val_loss: 0.8348 - val_acc: 0.7132\n",
      "Epoch 91/100\n",
      " - 12s - loss: 0.8894 - acc: 0.6949 - val_loss: 0.9124 - val_acc: 0.6822\n",
      "Epoch 92/100\n",
      " - 12s - loss: 0.8913 - acc: 0.6946 - val_loss: 0.8360 - val_acc: 0.7146\n",
      "Epoch 93/100\n",
      " - 12s - loss: 0.8891 - acc: 0.6962 - val_loss: 0.8349 - val_acc: 0.7152\n",
      "Epoch 94/100\n",
      " - 12s - loss: 0.8881 - acc: 0.6952 - val_loss: 0.8273 - val_acc: 0.7152\n",
      "Epoch 95/100\n",
      " - 12s - loss: 0.8905 - acc: 0.6942 - val_loss: 0.7893 - val_acc: 0.7312\n",
      "Epoch 96/100\n",
      " - 12s - loss: 0.8924 - acc: 0.6916 - val_loss: 0.7824 - val_acc: 0.7276\n",
      "Epoch 97/100\n",
      " - 12s - loss: 0.8890 - acc: 0.6944 - val_loss: 0.7435 - val_acc: 0.7414\n",
      "Epoch 98/100\n",
      " - 12s - loss: 0.8821 - acc: 0.6989 - val_loss: 0.8783 - val_acc: 0.6958\n",
      "Epoch 99/100\n",
      " - 12s - loss: 0.8809 - acc: 0.6958 - val_loss: 0.7409 - val_acc: 0.7430\n",
      "Epoch 100/100\n",
      " - 12s - loss: 0.8773 - acc: 0.6980 - val_loss: 0.7607 - val_acc: 0.7346\n"
     ]
    }
   ],
   "source": [
    "# TRAINING\n",
    "\n",
    "# Optimizer\n",
    "optType = Adam(lr=0.001, beta_1=0.9, beta_2=0.999, epsilon=None, decay=0)\n",
    "# optType = SGD(lr=0.01, momentum=0.9, decay=1e-4, nesterov=True)\n",
    "\n",
    "# Configure model\n",
    "model.compile(optimizer=optType, \n",
    "              loss='categorical_crossentropy',\n",
    "              metrics=['accuracy']) #categorical_accuracy\n",
    "\n",
    "# Train the model\n",
    "history = model.fit(x=x_train, y=y_train,\n",
    "          batch_size=128, \n",
    "          epochs=100, \n",
    "          verbose=2, \n",
    "          validation_split=0.1,\n",
    "          shuffle=True)"
   ]
  },
  {
   "cell_type": "markdown",
   "metadata": {
    "id": "zcogykYpLsul",
    "colab_type": "text"
   },
   "source": [
    "Test the model and gather metrics"
   ]
  },
  {
   "cell_type": "code",
   "execution_count": 10,
   "metadata": {
    "id": "ZUnR3DMLLu37",
    "colab_type": "code",
    "colab": {
     "autoexec": {
      "startup": false,
      "wait_interval": 0.0
     },
     "base_uri": "https://localhost:8080/",
     "height": 873.0
    },
    "outputId": "1e589ba3-b902-45f3-9b8c-7bb87f0229a1",
    "executionInfo": {
     "status": "ok",
     "timestamp": 1.526068420792E12,
     "user_tz": 420.0,
     "elapsed": 2903.0,
     "user": {
      "displayName": "Harpreet Singh",
      "photoUrl": "https://lh3.googleusercontent.com/a/default-user=s128",
      "userId": "106201171586352716832"
     }
    }
   },
   "outputs": [
    {
     "name": "stdout",
     "output_type": "stream",
     "text": [
      "10000/10000 [==============================] - 2s 212us/step\n",
      "Test loss: 0.7936539781570434\n",
      "Test accuracy: 0.7229\n"
     ]
    },
    {
     "data": {
      "text/plain": [
       "Text(0.5,1,'Loss Curves')"
      ]
     },
     "execution_count": 10,
     "metadata": {
      "tags": []
     },
     "output_type": "execute_result"
    },
    {
     "data": {
      "image/png": "[encoded data removed]",
      "text/plain": [
       "<matplotlib.figure.Figure at 0x7f22d75b4080>"
      ]
     },
     "metadata": {
      "tags": []
     },
     "output_type": "display_data"
    },
    {
     "data": {
      "image/png": "[encoded data removed]",
      "text/plain": [
       "<matplotlib.figure.Figure at 0x7f22d756f5c0>"
      ]
     },
     "metadata": {
      "tags": []
     },
     "output_type": "display_data"
    }
   ],
   "source": [
    "# TESTING AND METRICS\n",
    "\n",
    "# Test loss and accuracy\n",
    "scores = model.evaluate(x_test, y_test, verbose=1)\n",
    "print('Test loss:', scores[0])\n",
    "print('Test accuracy:', scores[1])\n",
    "\n",
    "\n",
    "# Accuracy plot\n",
    "plt.figure(figsize=[8,6])\n",
    "plt.plot(history.history['acc'],'r',linewidth=3.0)\n",
    "plt.plot(history.history['val_acc'],'b',linewidth=3.0)\n",
    "plt.legend(['Training Accuracy', 'Validation Accuracy'],fontsize=18)\n",
    "plt.xlabel('Epochs ',fontsize=16)\n",
    "plt.ylabel('Accuracy',fontsize=16)\n",
    "plt.title('Accuracy Curves',fontsize=16)\n",
    "\n",
    "\n",
    "# Loss Curves\n",
    "plt.figure(figsize=[8,6])\n",
    "plt.plot(history.history['loss'],'r',linewidth=3.0)\n",
    "plt.plot(history.history['val_loss'],'b',linewidth=3.0)\n",
    "plt.legend(['Training loss', 'Validation Loss'],fontsize=18)\n",
    "plt.xlabel('Epochs ',fontsize=16)\n",
    "plt.ylabel('Loss',fontsize=16)\n",
    "plt.title('Loss Curves',fontsize=16)"
   ]
  },
  {
   "cell_type": "code",
   "execution_count": 0,
   "metadata": {
    "id": "dQPsh3rTL7qq",
    "colab_type": "code",
    "colab": {
     "autoexec": {
      "startup": false,
      "wait_interval": 0.0
     }
    }
   },
   "outputs": [],
   "source": [
    "#Save Model as yaml file\n",
    "from keras.models import load_model\n",
    "from google.colab import files\n",
    "\n",
    "# Download File\n",
    "my_file_name = \"cifar_10_model.h5\";\n",
    "model.save(my_file_name)\n",
    "files.download(my_file_name)"
   ]
  }
 ],
 "metadata": {
  "colab": {
   "name": "Cifar10_CNN_Stats760.ipynb",
   "version": "0.3.2",
   "views": {},
   "default_view": {},
   "provenance": []
  },
  "kernelspec": {
   "name": "python3",
   "display_name": "Python 3"
  },
  "accelerator": "GPU"
 },
 "nbformat": 4,
 "nbformat_minor": 0
}
