{
 "cells": [
  {
   "cell_type": "markdown",
   "metadata": {
    "id": "UGqcrR4DDtnB",
    "colab_type": "text"
   },
   "source": [
    "**Final project for Statistical Learning 760.**  \\\\\n",
    "\n",
    "---\n",
    "\n",
    "Train a Conv. Net. on CIFAR 10 Data and compare results with a random forest."
   ]
  },
  {
   "cell_type": "code",
   "execution_count": 0,
   "metadata": {
    "id": "TKLvmdvHC6y8",
    "colab_type": "code",
    "colab": {
     "autoexec": {
      "startup": false,
      "wait_interval": 0.0
     }
    }
   },
   "outputs": [],
   "source": [
    "#Imports\n",
    "import keras\n",
    "from keras.datasets import cifar10\n",
    "from keras.models import Sequential\n",
    "from keras.layers import Dense, Dropout, Activation, Flatten, BatchNormalization\n",
    "from keras.layers import Conv2D, MaxPooling2D\n",
    "from keras.optimizers import SGD, Adam\n",
    "from keras.regularizers import l2\n",
    "from keras.utils import print_summary, to_categorical\n",
    "import matplotlib.pyplot as plt\n",
    "import sys\n",
    "import os\n",
    "\n",
    "#Test if GPU is working -> '/device:GPU:0'\n",
    "import tensorflow as tf\n",
    "tf.test.gpu_device_name()"
   ]
  },
  {
   "cell_type": "code",
   "execution_count": 0,
   "metadata": {
    "id": "wweNJhv6DO9V",
    "colab_type": "code",
    "colab": {
     "autoexec": {
      "startup": false,
      "wait_interval": 0.0
     }
    }
   },
   "outputs": [],
   "source": [
    "# loading CIFAR 10 data\n",
    "(x_train, y_train), (x_test, y_test) = cifar10.load_data()\n",
    "print(f\"x_train shape: {x_train.shape}\")\n",
    "print(f\"x_test shape: {x_test.shape}\")\n",
    "print(f\"y_train shape: {y_train.shape}\")\n",
    "print(f\"y_test shape: {y_test.shape}\")\n",
    "\n",
    "# normalize images\n",
    "x_train = x_train.astype('float32')\n",
    "x_test = x_test.astype('float32')\n",
    "x_train /= 255.0\n",
    "x_test /= 255.0\n",
    "\n",
    "# make CIFAR 10 labels categorical\n",
    "num_classes = 10\n",
    "y_train = to_categorical(y_train, num_classes)\n",
    "y_test = to_categorical(y_test, num_classes)\n",
    "print(f\"New y_test shape: {y_test.shape}\")\n",
    "print(f\"y_test sample: {y_test[0:1,]}\")"
   ]
  },
  {
   "cell_type": "code",
   "execution_count": 0,
   "metadata": {
    "id": "liqjCK_OFDSX",
    "colab_type": "code",
    "colab": {
     "autoexec": {
      "startup": false,
      "wait_interval": 0.0
     }
    }
   },
   "outputs": [],
   "source": [
    "# CNN MODEL\n",
    "\n",
    "model_name = 'cifar_10_cnn'\n",
    "\n",
    "# Model type\n",
    "model = Sequential()\n",
    "model.reset_states()\n",
    "\n",
    "#Dropout rate\n",
    "dropout_rate = 0.5\n",
    "\n",
    "#Input\n",
    "print(f\"Input Shape: {x_train.shape[1:]}\")\n",
    "\n",
    "# CNN Layer 1\n",
    "model.add(Conv2D(32, (3,3), strides=(1,1), padding='same',  use_bias=True, bias_initializer='zeros', kernel_initializer='he_normal', activation='relu', input_shape=x_train.shape[1:]))\n",
    "model.add(BatchNormalization(center=False, scale=False))\n",
    "model.add(MaxPooling2D(pool_size=(2, 2), strides=None, padding='valid'))\n",
    "model.add(Dropout(dropout_rate))\n",
    "\n",
    "# CNN Layer 4\n",
    "model.add(Conv2D(64, (3,3), strides=(1,1), padding='valid', use_bias=True, bias_initializer='zeros', kernel_initializer='he_normal', activation='relu'))\n",
    "model.add(BatchNormalization(center=False, scale=False))\n",
    "model.add(MaxPooling2D(pool_size=(2, 2), strides=None, padding='valid'))\n",
    "model.add(Dropout(dropout_rate))\n",
    "\n",
    "# CNN Layer 6\n",
    "model.add(Conv2D(128, (3,3), strides=(1,1), padding='valid', use_bias=True, bias_initializer='zeros', kernel_initializer='he_normal', activation='relu'))\n",
    "model.add(BatchNormalization(center=False, scale=False))\n",
    "model.add(MaxPooling2D(pool_size=(2, 2), strides=None, padding='valid'))\n",
    "model.add(Dropout(dropout_rate))\n",
    "\n",
    "# Flatten\n",
    "model.add(Flatten())          \n",
    "          \n",
    "# Fully Connected Later 5\n",
    "model.add(Dense(256, activation='relu', kernel_initializer='he_normal', bias_initializer='zeros' , name='fc_1')) \n",
    "model.add(BatchNormalization(center=False, scale=False))\n",
    "model.add(Dropout(dropout_rate))\n",
    "\n",
    "# Fully Connected Later 6\n",
    "model.add(Dense(128, activation='relu', kernel_initializer='he_normal', bias_initializer='zeros', name='fc_2')) \n",
    "model.add(BatchNormalization(center=False, scale=True))\n",
    "model.add(Dropout(dropout_rate))\n",
    "\n",
    "# OUTPUT LAYER\n",
    "model.add(Dense(num_classes, activation='softmax'))\n",
    "\n",
    "# Summary \n",
    "model.summary()"
   ]
  },
  {
   "cell_type": "markdown",
   "metadata": {
    "id": "EDdyqgMxE8qQ",
    "colab_type": "text"
   },
   "source": [
    "Building CNN model."
   ]
  },
  {
   "cell_type": "markdown",
   "metadata": {
    "id": "HjOmgiJyLU0c",
    "colab_type": "text"
   },
   "source": [
    "Train the model."
   ]
  },
  {
   "cell_type": "code",
   "execution_count": 0,
   "metadata": {
    "id": "moB6txZXLWjP",
    "colab_type": "code",
    "colab": {
     "autoexec": {
      "startup": false,
      "wait_interval": 0.0
     }
    }
   },
   "outputs": [],
   "source": [
    "# TRAINING\n",
    "\n",
    "# Optimizer\n",
    "optType = Adam(lr=0.001, beta_1=0.9, beta_2=0.999, epsilon=None, decay=0)\n",
    "# optType = SGD(lr=0.01, momentum=0.9, decay=1e-4, nesterov=True)\n",
    "\n",
    "# Configure model\n",
    "model.compile(optimizer=optType, \n",
    "              loss='categorical_crossentropy',\n",
    "              metrics=['accuracy']) #categorical_accuracy\n",
    "\n",
    "# Train the model\n",
    "history = model.fit(x=x_train, y=y_train,\n",
    "          batch_size=128, \n",
    "          epochs=100, \n",
    "          verbose=2, \n",
    "          validation_split=0.1,\n",
    "          shuffle=True)"
   ]
  },
  {
   "cell_type": "markdown",
   "metadata": {
    "id": "zcogykYpLsul",
    "colab_type": "text"
   },
   "source": [
    "Test the model and gather metrics"
   ]
  },
  {
   "cell_type": "code",
   "execution_count": 0,
   "metadata": {
    "id": "ZUnR3DMLLu37",
    "colab_type": "code",
    "colab": {
     "autoexec": {
      "startup": false,
      "wait_interval": 0.0
     }
    }
   },
   "outputs": [],
   "source": [
    "# TESTING AND METRICS\n",
    "\n",
    "# Test loss and accuracy\n",
    "scores = model.evaluate(x_test, y_test, verbose=1)\n",
    "print('Test loss:', scores[0])\n",
    "print('Test accuracy:', scores[1])\n",
    "\n",
    "\n",
    "# Accuracy plot\n",
    "plt.figure(figsize=[8,6])\n",
    "plt.plot(history.history['acc'],'r',linewidth=3.0)\n",
    "plt.plot(history.history['val_acc'],'b',linewidth=3.0)\n",
    "plt.legend(['Training Accuracy', 'Validation Accuracy'],fontsize=18)\n",
    "plt.xlabel('Epochs ',fontsize=16)\n",
    "plt.ylabel('Accuracy',fontsize=16)\n",
    "plt.title('Accuracy Curves',fontsize=16)\n",
    "\n",
    "\n",
    "# Loss Curves\n",
    "plt.figure(figsize=[8,6])\n",
    "plt.plot(history.history['loss'],'r',linewidth=3.0)\n",
    "plt.plot(history.history['val_loss'],'b',linewidth=3.0)\n",
    "plt.legend(['Training loss', 'Validation Loss'],fontsize=18)\n",
    "plt.xlabel('Epochs ',fontsize=16)\n",
    "plt.ylabel('Loss',fontsize=16)\n",
    "plt.title('Loss Curves',fontsize=16)"
   ]
  },
  {
   "cell_type": "code",
   "execution_count": 0,
   "metadata": {
    "id": "dQPsh3rTL7qq",
    "colab_type": "code",
    "colab": {
     "autoexec": {
      "startup": false,
      "wait_interval": 0.0
     }
    }
   },
   "outputs": [],
   "source": [
    "#Save Model as yaml file\n",
    "from keras.models import load_model\n",
    "from google.colab import files\n",
    "\n",
    "# Download File\n",
    "my_file_name = \"cifar_10_model.h5\"\n",
    "model.save(my_file_name)\n",
    "files.download(my_file_name)"
   ]
  }
 ],
 "metadata": {
  "colab": {
   "name": "Cifar10_CNN_Stats760.ipynb",
   "version": "0.3.2",
   "views": {},
   "default_view": {},
   "provenance": []
  },
  "kernelspec": {
   "name": "python3",
   "display_name": "Python 3"
  },
  "accelerator": "GPU"
 },
 "nbformat": 4,
 "nbformat_minor": 0
}
